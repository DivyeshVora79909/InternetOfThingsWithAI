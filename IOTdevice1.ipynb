{
 "cells": [
  {
   "cell_type": "code",
   "execution_count": 48,
   "metadata": {},
   "outputs": [
    {
     "name": "stdout",
     "output_type": "stream",
     "text": [
      "Listening...\n",
      "<<<< turn on the fans\n"
     ]
    }
   ],
   "source": [
    "import speech_recognition as sr\n",
    "\n",
    "recognizer = sr.Recognizer()\n",
    "with sr.Microphone() as source:\n",
    "    print(\"Listening...\")\n",
    "    recognizer.adjust_for_ambient_noise(source)  \n",
    "    audio_data = recognizer.listen(source)\n",
    "try:\n",
    "    sentence = recognizer.recognize_google(audio_data)\n",
    "    print(\"<<<<\", sentence)\n",
    "except sr.UnknownValueError:\n",
    "    print(\"Sorry, could not understand audio.\")\n",
    "except sr.RequestError as e:\n",
    "    print(\"Error fetching results from Google Speech Recognition service:\", e)\n"
   ]
  },
  {
   "cell_type": "code",
   "execution_count": 49,
   "metadata": {},
   "outputs": [],
   "source": [
    "from sklearn.metrics.pairwise import cosine_similarity; from transformers import AutoTokenizer, AutoModel; import torch; import numpy as np\n",
    "\n",
    "sentences = [\"turn on the fans\", sentence]\n",
    "model_name_or_path = \"C:/MachineLearning/HuggingFace/HuggingFaceModels/bioasq-1m-msmarco-distilbert-gpl\" \n",
    "tokenizer, model = AutoTokenizer.from_pretrained(model_name_or_path), AutoModel.from_pretrained(model_name_or_path)\n",
    "encoded_input = tokenizer(sentences, padding=True, truncation=True, return_tensors='pt')\n",
    "\n",
    "def mean_pooling(model_output, attention_mask):\n",
    "    token_embeddings = model_output[0] \n",
    "    input_mask_expanded = attention_mask.unsqueeze(-1).expand(token_embeddings.size()).float()\n",
    "    return torch.sum(token_embeddings * input_mask_expanded, 1) / torch.clamp(input_mask_expanded.sum(1), min=1e-9)"
   ]
  },
  {
   "cell_type": "code",
   "execution_count": 50,
   "metadata": {},
   "outputs": [
    {
     "name": "stdout",
     "output_type": "stream",
     "text": [
      "turn on the fans         : 1.000000238418579\n"
     ]
    }
   ],
   "source": [
    "with torch.no_grad():\n",
    "    model_output = model(**encoded_input)\n",
    "sentence_embeddings = mean_pooling(model_output, encoded_input['attention_mask'])\n",
    "encoded_inputs = tokenizer(sentences, padding=True, truncation=True, return_tensors=\"pt\")\n",
    "\n",
    "with torch.no_grad():\n",
    "    model_outputs = model(**encoded_inputs)\n",
    "embeddings = mean_pooling(model_outputs, encoded_inputs['attention_mask'])\n",
    "similarities = cosine_similarity(embeddings[1:], embeddings[0].unsqueeze(0))\n",
    "\n",
    "for i, similarity in enumerate(similarities, start=1):\n",
    "    print(f\"{sentences[i-1]:<25}: {similarity[0]}\")\n",
    "    \n",
    "similarities[similarities < 0.6] = 0"
   ]
  },
  {
   "cell_type": "code",
   "execution_count": 52,
   "metadata": {},
   "outputs": [],
   "source": [
    "import pyttsx3\n",
    "engine = pyttsx3.init()\n",
    "engine.setProperty('rate', 150)  # Speed of speech (words per minute)\n",
    "engine.setProperty('volume', 1.0)  # Volume (0.0 to 1.0)\n",
    "if similarities > 1:\n",
    "    engine.say(\"successful\")\n",
    "    engine.runAndWait()\n",
    "else:\n",
    "    engine.say(\"unsuccessful\")\n",
    "    engine.runAndWait()"
   ]
  },
  {
   "cell_type": "code",
   "execution_count": 45,
   "metadata": {},
   "outputs": [
    {
     "name": "stdout",
     "output_type": "stream",
     "text": [
      "turn on the fans          :    1.0\n",
      "what the hell             :    0.0\n"
     ]
    }
   ],
   "source": [
    "from transformers import pipeline\n",
    "\n",
    "classifier = pipeline(task=\"text-classification\", model=\"C:\\MachineLearning\\HuggingFace\\HuggingFaceModels\\\\roberta-base-go_emotions\", top_k=None)\n",
    "model_outputs = classifier(sentences)\n",
    "\n",
    "flag = np.array([])\n",
    "for output in model_outputs:\n",
    "    sentence_flag = 1\n",
    "    for item in output:\n",
    "        if item['label'] == 'disapproval' and item['score'] > 0.01:\n",
    "            sentence_flag = 0\n",
    "            break  \n",
    "    flag = np.append(flag, sentence_flag)\n",
    "\n",
    "for i, f in enumerate(flag, start=1):\n",
    "    print(f\"{sentences[i-1]:<25} :    {f}\")\n",
    "flag = flag[1:]"
   ]
  },
  {
   "cell_type": "code",
   "execution_count": 46,
   "metadata": {},
   "outputs": [],
   "source": [
    "result = np.multiply(flag.reshape(-1,1), similarities)\n",
    "result[result > 0.7] = 1\n",
    "\n",
    "import pyttsx3\n",
    "engine = pyttsx3.init()\n",
    "engine.setProperty('rate', 150)  # Speed of speech (words per minute)\n",
    "engine.setProperty('volume', 1.0)  # Volume (0.0 to 1.0)\n",
    "if result == 1:\n",
    "    engine.say(\"successful\")\n",
    "    engine.runAndWait()\n",
    "else:\n",
    "    engine.say(\"unsuccessful\")\n",
    "    engine.runAndWait()\n"
   ]
  }
 ],
 "metadata": {
  "kernelspec": {
   "display_name": "Python 3",
   "language": "python",
   "name": "python3"
  },
  "language_info": {
   "codemirror_mode": {
    "name": "ipython",
    "version": 3
   },
   "file_extension": ".py",
   "mimetype": "text/x-python",
   "name": "python",
   "nbconvert_exporter": "python",
   "pygments_lexer": "ipython3",
   "version": "3.11.2"
  }
 },
 "nbformat": 4,
 "nbformat_minor": 2
}
